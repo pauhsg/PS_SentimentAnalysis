{
 "cells": [
  {
   "cell_type": "code",
   "execution_count": 1,
   "metadata": {},
   "outputs": [],
   "source": [
    "from sklearn.linear_model import LinearRegression\n",
    "from sklearn import linear_model\n",
    "\n",
    "import warnings \n",
    "warnings.simplefilter('ignore')\n",
    "\n",
    "from get_GloVe_emb_ML import *\n",
    "from proj2_helpers import *\n",
    "from ML_sklearn import * "
   ]
  },
  {
   "cell_type": "code",
   "execution_count": 2,
   "metadata": {},
   "outputs": [],
   "source": [
    "PP_POS_PATH = './Results/pp_pos_otpl_nd.txt' \n",
    "PP_NEG_PATH = './Results/pp_neg_otpl_nd.txt' \n",
    "PP_TEST_PATH = './Results/pp_test_otpl.txt'\n",
    "VECTORS_PATH = './GloVe-1.2/vectors.txt'"
   ]
  },
  {
   "cell_type": "code",
   "execution_count": 3,
   "metadata": {},
   "outputs": [],
   "source": [
    "DIM_EMB = 50"
   ]
  },
  {
   "cell_type": "code",
   "execution_count": 4,
   "metadata": {},
   "outputs": [],
   "source": [
    "testsize = 0.2"
   ]
  },
  {
   "cell_type": "code",
   "execution_count": 5,
   "metadata": {},
   "outputs": [],
   "source": [
    "pos = open(PP_POS_PATH, \"r\").read().splitlines()\n",
    "neg = open(PP_NEG_PATH, \"r\").read().splitlines()\n",
    "test = open(PP_TEST_PATH, \"r\").read().splitlines()"
   ]
  },
  {
   "cell_type": "code",
   "execution_count": 6,
   "metadata": {},
   "outputs": [],
   "source": [
    "vectors = get_vectors(VECTORS_PATH)"
   ]
  },
  {
   "cell_type": "code",
   "execution_count": 7,
   "metadata": {},
   "outputs": [
    {
     "name": "stdout",
     "output_type": "stream",
     "text": [
      "> process pos and neg datas to get X and y to perform ML\n",
      "> computing mean of word vectors\n",
      "> computing mean of word vectors\n",
      "> X and y informations:\n",
      "X shape: (173209, 50)\n",
      "y shape: (173209,)\n"
     ]
    },
    {
     "data": {
      "text/html": [
       "<div>\n",
       "<style scoped>\n",
       "    .dataframe tbody tr th:only-of-type {\n",
       "        vertical-align: middle;\n",
       "    }\n",
       "\n",
       "    .dataframe tbody tr th {\n",
       "        vertical-align: top;\n",
       "    }\n",
       "\n",
       "    .dataframe thead th {\n",
       "        text-align: right;\n",
       "    }\n",
       "</style>\n",
       "<table border=\"1\" class=\"dataframe\">\n",
       "  <thead>\n",
       "    <tr style=\"text-align: right;\">\n",
       "      <th></th>\n",
       "      <th>sentiment</th>\n",
       "      <th>twt_vec</th>\n",
       "    </tr>\n",
       "  </thead>\n",
       "  <tbody>\n",
       "    <tr>\n",
       "      <th>6417</th>\n",
       "      <td>1</td>\n",
       "      <td>[-0.1965136, 0.22273179999999998, -0.275629599...</td>\n",
       "    </tr>\n",
       "    <tr>\n",
       "      <th>106561</th>\n",
       "      <td>-1</td>\n",
       "      <td>[-0.4930695, 0.5207425, -0.47714049999999997, ...</td>\n",
       "    </tr>\n",
       "    <tr>\n",
       "      <th>119983</th>\n",
       "      <td>-1</td>\n",
       "      <td>[0.006603799999999993, 0.0768652, -0.052961899...</td>\n",
       "    </tr>\n",
       "    <tr>\n",
       "      <th>114400</th>\n",
       "      <td>-1</td>\n",
       "      <td>[-0.3787674, 0.4811947, -0.061057099999999996,...</td>\n",
       "    </tr>\n",
       "    <tr>\n",
       "      <th>65447</th>\n",
       "      <td>1</td>\n",
       "      <td>[-0.279507, 0.986604, -0.124773, 0.219202, -0....</td>\n",
       "    </tr>\n",
       "  </tbody>\n",
       "</table>\n",
       "</div>"
      ],
      "text/plain": [
       "        sentiment                                            twt_vec\n",
       "6417            1  [-0.1965136, 0.22273179999999998, -0.275629599...\n",
       "106561         -1  [-0.4930695, 0.5207425, -0.47714049999999997, ...\n",
       "119983         -1  [0.006603799999999993, 0.0768652, -0.052961899...\n",
       "114400         -1  [-0.3787674, 0.4811947, -0.061057099999999996,...\n",
       "65447           1  [-0.279507, 0.986604, -0.124773, 0.219202, -0...."
      ]
     },
     "execution_count": 7,
     "metadata": {},
     "output_type": "execute_result"
    }
   ],
   "source": [
    "full_df, X, y = get_train_emb(pos, neg, vectors, DIM_EMB)\n",
    "full_df.head()"
   ]
  },
  {
   "cell_type": "code",
   "execution_count": 8,
   "metadata": {},
   "outputs": [
    {
     "name": "stdout",
     "output_type": "stream",
     "text": [
      "> splitting datas into train and test sets\n",
      "> standardizing\n",
      "> performing PCA\n",
      "Train set: X shape:  (138567, 40) y shape: (138567,)\n",
      "Test set: X shape:  (34642, 40) y shape: (34642,)\n"
     ]
    }
   ],
   "source": [
    "X_train, X_test, y_train, y_test, scaler, pca = split_standardize_pca(X, y, testsize)"
   ]
  },
  {
   "cell_type": "code",
   "execution_count": 9,
   "metadata": {},
   "outputs": [
    {
     "name": "stdout",
     "output_type": "stream",
     "text": [
      "0.7401708908261647\n"
     ]
    }
   ],
   "source": [
    "clf = linear_model.LogisticRegression(C=1e-2, max_iter=100000, n_jobs=-1).fit(X_train, y_train)\n",
    "y_pred = clf.predict(X_test)\n",
    "compute_accuracy(y_test, y_pred)"
   ]
  },
  {
   "cell_type": "code",
   "execution_count": 10,
   "metadata": {},
   "outputs": [
    {
     "name": "stdout",
     "output_type": "stream",
     "text": [
      "> process test data to get X_test and perform ML\n",
      "> computing mean of word vectors\n",
      "Test shape (10000, 50)\n"
     ]
    }
   ],
   "source": [
    "df_test, testx = get_test_emb(test, vectors, DIM_EMB)"
   ]
  },
  {
   "cell_type": "code",
   "execution_count": 11,
   "metadata": {},
   "outputs": [],
   "source": [
    "testx = std_pca_test(testx, scaler, pca)"
   ]
  },
  {
   "cell_type": "code",
   "execution_count": 12,
   "metadata": {},
   "outputs": [],
   "source": [
    "y_pred_test = clf.predict(testx)"
   ]
  },
  {
   "cell_type": "code",
   "execution_count": 13,
   "metadata": {},
   "outputs": [
    {
     "name": "stdout",
     "output_type": "stream",
     "text": [
      "verify length of test:  10000\n"
     ]
    }
   ],
   "source": [
    "create_submission(df_test, y_pred_test, './Submissions/LR_glove.csv')"
   ]
  }
 ],
 "metadata": {
  "kernelspec": {
   "display_name": "Python 3",
   "language": "python",
   "name": "python3"
  },
  "language_info": {
   "codemirror_mode": {
    "name": "ipython",
    "version": 3
   },
   "file_extension": ".py",
   "mimetype": "text/x-python",
   "name": "python",
   "nbconvert_exporter": "python",
   "pygments_lexer": "ipython3",
   "version": "3.7.1"
  }
 },
 "nbformat": 4,
 "nbformat_minor": 2
}
