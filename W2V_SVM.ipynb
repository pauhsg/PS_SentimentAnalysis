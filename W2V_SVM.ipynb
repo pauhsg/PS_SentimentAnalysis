{
 "cells": [
  {
   "cell_type": "code",
   "execution_count": 13,
   "metadata": {},
   "outputs": [],
   "source": [
    "import pandas as ps\n",
    "\n",
    "import matplotlib.pylab as plt\n",
    "\n",
    "from sklearn.model_selection import train_test_split\n",
    "from sklearn.metrics import confusion_matrix\n",
    "from sklearn.preprocessing import MinMaxScaler\n",
    "from sklearn.decomposition import PCA\n",
    "from sklearn.linear_model import LinearRegression\n",
    "from sklearn import linear_model\n",
    "from sklearn.svm import LinearSVC\n",
    "\n",
    "from gensim import models\n",
    "\n",
    "import warnings \n",
    "warnings.simplefilter('ignore')\n",
    "\n",
    "from proj2_helpers import *\n",
    "from get_embeddings_ML import *\n",
    "\n",
    "from keras.preprocessing.text import Tokenizer\n",
    "from keras.preprocessing.sequence import pad_sequences"
   ]
  },
  {
   "cell_type": "code",
   "execution_count": 21,
   "metadata": {},
   "outputs": [],
   "source": [
    "from  word2vect_utilities import *"
   ]
  },
  {
   "cell_type": "code",
   "execution_count": 22,
   "metadata": {},
   "outputs": [],
   "source": [
    "from nltk import word_tokenize, WordNetLemmatizer"
   ]
  },
  {
   "cell_type": "markdown",
   "metadata": {},
   "source": [
    "### DATA LOADING"
   ]
  },
  {
   "cell_type": "code",
   "execution_count": 5,
   "metadata": {},
   "outputs": [],
   "source": [
    "RESULT_POS_PATH = './Results/pp_pos_otpl_nd.txt'\n",
    "RESULT_NEG_PATH = './Results/pp_neg_otpl_nd.txt'\n",
    "RES_PATH = './Results/pp_test_otpl.txt'"
   ]
  },
  {
   "cell_type": "code",
   "execution_count": 6,
   "metadata": {},
   "outputs": [],
   "source": [
    "# load the data files = list with each line being a tweet\n",
    "result_pos = open(RESULT_POS_PATH, \"r\").read().splitlines()\n",
    "result_neg = open(RESULT_NEG_PATH, \"r\").read().splitlines()\n",
    "test_set = open(RES_PATH, \"r\").read().splitlines()"
   ]
  },
  {
   "cell_type": "markdown",
   "metadata": {},
   "source": [
    "### DATAFRAME CONSTRUCTION"
   ]
  },
  {
   "cell_type": "code",
   "execution_count": 23,
   "metadata": {},
   "outputs": [],
   "source": [
    "#-----------------------------------------TRAINING SET---------------------------------------------------------------------------\n",
    "\n",
    "# create labels\n",
    "label_pos = [1] * len(result_pos)\n",
    "#create a df\n",
    "pos_df = pd.DataFrame(list(zip(label_pos, result_pos)),columns=[\"Sentiment\",\"Tweet\"]) \n",
    "del label_pos\n",
    "\n",
    "# create labels\n",
    "label_neg = [-1] * len(result_neg)\n",
    "# create a df\n",
    "neg_df = pd.DataFrame(list(zip(label_neg, result_neg)),columns=[\"Sentiment\",\"Tweet\"]) #create a df\n",
    "del label_neg\n",
    "\n",
    "# regroup the dfs, ignore index in order to get new ones (->no duplicate)\n",
    "train_df = pd.concat([pos_df,neg_df],ignore_index=True) #regroup the dfs, ignore index in order to get new ones (->no duplicate)\n",
    "\n",
    "train_tokens = [word_tokenize(sen) for sen in train_df.Tweet] \n",
    "\n",
    "train_df['tokens'] = train_tokens\n",
    "\n",
    "# shuffle the rows\n",
    "train_df = train_df.sample(frac=1) "
   ]
  },
  {
   "cell_type": "code",
   "execution_count": 42,
   "metadata": {},
   "outputs": [
    {
     "data": {
      "text/html": [
       "<div>\n",
       "<style scoped>\n",
       "    .dataframe tbody tr th:only-of-type {\n",
       "        vertical-align: middle;\n",
       "    }\n",
       "\n",
       "    .dataframe tbody tr th {\n",
       "        vertical-align: top;\n",
       "    }\n",
       "\n",
       "    .dataframe thead th {\n",
       "        text-align: right;\n",
       "    }\n",
       "</style>\n",
       "<table border=\"1\" class=\"dataframe\">\n",
       "  <thead>\n",
       "    <tr style=\"text-align: right;\">\n",
       "      <th></th>\n",
       "      <th>Sentiment</th>\n",
       "      <th>Tweet</th>\n",
       "      <th>tokens</th>\n",
       "    </tr>\n",
       "  </thead>\n",
       "  <tbody>\n",
       "    <tr>\n",
       "      <td>157305</td>\n",
       "      <td>-1</td>\n",
       "      <td>leader make difference leadership lessons thre...</td>\n",
       "      <td>[leader, make, difference, leadership, lessons...</td>\n",
       "    </tr>\n",
       "    <tr>\n",
       "      <td>30949</td>\n",
       "      <td>1</td>\n",
       "      <td>maura maria</td>\n",
       "      <td>[maura, maria]</td>\n",
       "    </tr>\n",
       "    <tr>\n",
       "      <td>29427</td>\n",
       "      <td>1</td>\n",
       "      <td>big butt unless like mao</td>\n",
       "      <td>[big, butt, unless, like, mao]</td>\n",
       "    </tr>\n",
       "    <tr>\n",
       "      <td>159526</td>\n",
       "      <td>-1</td>\n",
       "      <td>fabulous get work official video via feel like...</td>\n",
       "      <td>[fabulous, get, work, official, video, via, fe...</td>\n",
       "    </tr>\n",
       "    <tr>\n",
       "      <td>129790</td>\n",
       "      <td>-1</td>\n",
       "      <td>cry friend talk fun dint call text still befri...</td>\n",
       "      <td>[cry, friend, talk, fun, dint, call, text, sti...</td>\n",
       "    </tr>\n",
       "    <tr>\n",
       "      <td>...</td>\n",
       "      <td>...</td>\n",
       "      <td>...</td>\n",
       "      <td>...</td>\n",
       "    </tr>\n",
       "    <tr>\n",
       "      <td>94340</td>\n",
       "      <td>-1</td>\n",
       "      <td>caleb need stop harass follow back shit sorry ...</td>\n",
       "      <td>[caleb, need, stop, harass, follow, back, shit...</td>\n",
       "    </tr>\n",
       "    <tr>\n",
       "      <td>140815</td>\n",
       "      <td>-1</td>\n",
       "      <td>photo wall pro collage app free phone app phot...</td>\n",
       "      <td>[photo, wall, pro, collage, app, free, phone, ...</td>\n",
       "    </tr>\n",
       "    <tr>\n",
       "      <td>3021</td>\n",
       "      <td>1</td>\n",
       "      <td>jealous girlfriend faithful girlfriend babe ge...</td>\n",
       "      <td>[jealous, girlfriend, faithful, girlfriend, ba...</td>\n",
       "    </tr>\n",
       "    <tr>\n",
       "      <td>103897</td>\n",
       "      <td>-1</td>\n",
       "      <td>kill clean next bin outside jasmine wet stuff ...</td>\n",
       "      <td>[kill, clean, next, bin, outside, jasmine, wet...</td>\n",
       "    </tr>\n",
       "    <tr>\n",
       "      <td>150945</td>\n",
       "      <td>-1</td>\n",
       "      <td>one ever understand life situation</td>\n",
       "      <td>[one, ever, understand, life, situation]</td>\n",
       "    </tr>\n",
       "  </tbody>\n",
       "</table>\n",
       "<p>173211 rows × 3 columns</p>\n",
       "</div>"
      ],
      "text/plain": [
       "        Sentiment                                              Tweet  \\\n",
       "157305         -1  leader make difference leadership lessons thre...   \n",
       "30949           1                                        maura maria   \n",
       "29427           1                           big butt unless like mao   \n",
       "159526         -1  fabulous get work official video via feel like...   \n",
       "129790         -1  cry friend talk fun dint call text still befri...   \n",
       "...           ...                                                ...   \n",
       "94340          -1  caleb need stop harass follow back shit sorry ...   \n",
       "140815         -1  photo wall pro collage app free phone app phot...   \n",
       "3021            1  jealous girlfriend faithful girlfriend babe ge...   \n",
       "103897         -1  kill clean next bin outside jasmine wet stuff ...   \n",
       "150945         -1                 one ever understand life situation   \n",
       "\n",
       "                                                   tokens  \n",
       "157305  [leader, make, difference, leadership, lessons...  \n",
       "30949                                      [maura, maria]  \n",
       "29427                      [big, butt, unless, like, mao]  \n",
       "159526  [fabulous, get, work, official, video, via, fe...  \n",
       "129790  [cry, friend, talk, fun, dint, call, text, sti...  \n",
       "...                                                   ...  \n",
       "94340   [caleb, need, stop, harass, follow, back, shit...  \n",
       "140815  [photo, wall, pro, collage, app, free, phone, ...  \n",
       "3021    [jealous, girlfriend, faithful, girlfriend, ba...  \n",
       "103897  [kill, clean, next, bin, outside, jasmine, wet...  \n",
       "150945           [one, ever, understand, life, situation]  \n",
       "\n",
       "[173211 rows x 3 columns]"
      ]
     },
     "execution_count": 42,
     "metadata": {},
     "output_type": "execute_result"
    }
   ],
   "source": [
    "train_df"
   ]
  },
  {
   "cell_type": "code",
   "execution_count": 24,
   "metadata": {},
   "outputs": [],
   "source": [
    "#-----------------------------------------TEST SET---------------------------------------------------------------------------\n",
    "test_ids = np.linspace(1,10000,10000, dtype=int)\n",
    "# create a df\n",
    "test_df = pd.DataFrame(list(zip(test_ids, test_set)), columns=[\"Tweet_submission_id\",\"Tweet\"]) \n",
    "\n",
    "test_tokens = [word_tokenize(sen) for sen in test_df.Tweet] \n",
    "\n",
    "test_df['tokens'] = test_tokens"
   ]
  },
  {
   "cell_type": "markdown",
   "metadata": {},
   "source": [
    "### WORD EMBEDDING"
   ]
  },
  {
   "cell_type": "code",
   "execution_count": 25,
   "metadata": {},
   "outputs": [],
   "source": [
    "word2vec_path = 'GoogleNews-vectors-negative300.bin.gz'\n",
    "word2vec = models.KeyedVectors.load_word2vec_format(word2vec_path, binary=True)"
   ]
  },
  {
   "cell_type": "code",
   "execution_count": 26,
   "metadata": {},
   "outputs": [
    {
     "name": "stdout",
     "output_type": "stream",
     "text": [
      "1199577 words total, with a vocabulary size of 42148\n",
      "Max sentence length is 26\n"
     ]
    }
   ],
   "source": [
    "all_training_words = [word for tokens in train_df[\"tokens\"] for word in tokens]\n",
    "training_sentence_lengths = [len(tokens) for tokens in train_df[\"tokens\"]]\n",
    "TRAINING_VOCAB = sorted(list(set(all_training_words)))\n",
    "print(\"%s words total, with a vocabulary size of %s\" % (len(all_training_words), len(TRAINING_VOCAB)))\n",
    "print(\"Max sentence length is %s\" % max(training_sentence_lengths))"
   ]
  },
  {
   "cell_type": "code",
   "execution_count": 28,
   "metadata": {},
   "outputs": [],
   "source": [
    "training_embeddings = get_word2vec_embeddings(word2vec, train_df, generate_missing=True)"
   ]
  },
  {
   "cell_type": "code",
   "execution_count": 34,
   "metadata": {},
   "outputs": [],
   "source": [
    "MAX_SEQUENCE_LENGTH = 50\n",
    "EMBEDDING_DIM = 300"
   ]
  },
  {
   "cell_type": "markdown",
   "metadata": {},
   "source": [
    "#### Tokenize and Pad sequences"
   ]
  },
  {
   "cell_type": "code",
   "execution_count": 29,
   "metadata": {},
   "outputs": [],
   "source": [
    "EMBEDDING_DIM = 20"
   ]
  },
  {
   "cell_type": "code",
   "execution_count": 32,
   "metadata": {},
   "outputs": [
    {
     "name": "stdout",
     "output_type": "stream",
     "text": [
      "Found 42146 unique tokens.\n"
     ]
    }
   ],
   "source": [
    "tokenizer = Tokenizer(num_words=len(TRAINING_VOCAB), lower=True, char_level=False)\n",
    "tokenizer.fit_on_texts(train_df[\"Tweet\"].tolist())\n",
    "training_sequences = tokenizer.texts_to_sequences(train_df[\"Tweet\"].tolist())\n",
    "\n",
    "train_word_index = tokenizer.word_index\n",
    "print('Found %s unique tokens.' % len(train_word_index))"
   ]
  },
  {
   "cell_type": "code",
   "execution_count": 35,
   "metadata": {},
   "outputs": [],
   "source": [
    "train_data = pad_sequences(training_sequences, maxlen=MAX_SEQUENCE_LENGTH)"
   ]
  },
  {
   "cell_type": "code",
   "execution_count": 36,
   "metadata": {},
   "outputs": [
    {
     "name": "stdout",
     "output_type": "stream",
     "text": [
      "(42147, 300)\n"
     ]
    }
   ],
   "source": [
    "train_embedding_weights = np.zeros((len(train_word_index)+1, EMBEDDING_DIM))\n",
    "for word,index in train_word_index.items():\n",
    "    train_embedding_weights[index,:] = word2vec[word] if word in word2vec else np.random.rand(EMBEDDING_DIM)\n",
    "print(train_embedding_weights.shape)"
   ]
  },
  {
   "cell_type": "code",
   "execution_count": 37,
   "metadata": {},
   "outputs": [],
   "source": [
    "x_train = train_data"
   ]
  },
  {
   "cell_type": "code",
   "execution_count": 43,
   "metadata": {},
   "outputs": [],
   "source": [
    "y_train = train_df.Sentiment.values"
   ]
  },
  {
   "cell_type": "code",
   "execution_count": 44,
   "metadata": {},
   "outputs": [],
   "source": [
    "test_sequences = tokenizer.texts_to_sequences(test_df[\"Tweet\"].tolist())\n",
    "test_data = pad_sequences(test_sequences, maxlen=MAX_SEQUENCE_LENGTH)"
   ]
  },
  {
   "cell_type": "markdown",
   "metadata": {},
   "source": [
    "#### PCA "
   ]
  },
  {
   "cell_type": "code",
   "execution_count": 46,
   "metadata": {},
   "outputs": [],
   "source": [
    "scaler = MinMaxScaler(feature_range=[0, 1])\n",
    "X_rescaled = scaler.fit_transform(x_train)\n",
    "test_rescaled = scaler.fit_transform(test_data)"
   ]
  },
  {
   "cell_type": "code",
   "execution_count": 47,
   "metadata": {},
   "outputs": [
    {
     "data": {
      "image/png": "[encoded data removed]",
      "text/plain": [
       "<Figure size 720x360 with 1 Axes>"
      ]
     },
     "metadata": {
      "needs_background": "light"
     },
     "output_type": "display_data"
    }
   ],
   "source": [
    "#Fitting the PCA algorithm with our Data\n",
    "pca = PCA().fit(X_rescaled)\n",
    "#Plotting the Cumulative Summation of the Explained Variance\n",
    "fig = plt.figure(figsize=(10,5))\n",
    "x=np.cumsum(pca.explained_variance_ratio_)\n",
    "plt.plot(x)\n",
    "plt.xlabel('Number of Components')\n",
    "plt.ylabel('Variance (%)') #for each component\n",
    "plt.title('Pulsar Dataset Explained Variance')\n",
    "plt.yticks(np.arange(0, 1, 0.1))\n",
    "plt.axhline(y=1,color='gray',linestyle='--')\n",
    "plt.axvline(x=13,color='gray',linestyle='--')\n",
    "plt.show()"
   ]
  },
  {
   "cell_type": "markdown",
   "metadata": {},
   "source": [
    "We see that we have selecting 13 components we can preserve the total variance of the data."
   ]
  },
  {
   "cell_type": "code",
   "execution_count": 49,
   "metadata": {},
   "outputs": [],
   "source": [
    "pca = PCA(n_components=13)\n",
    "train_vals = pca.fit_transform(X_rescaled)\n",
    "test= pca.fit_transform(test_rescaled)"
   ]
  },
  {
   "cell_type": "markdown",
   "metadata": {},
   "source": [
    "### SVM"
   ]
  },
  {
   "cell_type": "code",
   "execution_count": 50,
   "metadata": {},
   "outputs": [
    {
     "data": {
      "text/plain": [
       "LinearSVC(C=1.0, class_weight=None, dual=True, fit_intercept=True,\n",
       "          intercept_scaling=1, loss='squared_hinge', max_iter=1000,\n",
       "          multi_class='ovr', penalty='l2', random_state=None, tol=0.0001,\n",
       "          verbose=0)"
      ]
     },
     "execution_count": 50,
     "metadata": {},
     "output_type": "execute_result"
    }
   ],
   "source": [
    "svc = LinearSVC()\n",
    "svc.fit(train_vals, y_train)"
   ]
  },
  {
   "cell_type": "code",
   "execution_count": 51,
   "metadata": {},
   "outputs": [],
   "source": [
    "y_pred = svc.predict(test)"
   ]
  },
  {
   "cell_type": "code",
   "execution_count": 52,
   "metadata": {},
   "outputs": [
    {
     "data": {
      "text/plain": [
       "10000"
      ]
     },
     "execution_count": 52,
     "metadata": {},
     "output_type": "execute_result"
    }
   ],
   "source": [
    "len(y_pred)"
   ]
  },
  {
   "cell_type": "markdown",
   "metadata": {},
   "source": [
    "### CREATE SUBMISSION"
   ]
  },
  {
   "cell_type": "code",
   "execution_count": 53,
   "metadata": {},
   "outputs": [],
   "source": [
    "test_id = test_df['Tweet_submission_id'].to_numpy()"
   ]
  },
  {
   "cell_type": "code",
   "execution_count": 54,
   "metadata": {},
   "outputs": [
    {
     "data": {
      "text/plain": [
       "10000"
      ]
     },
     "execution_count": 54,
     "metadata": {},
     "output_type": "execute_result"
    }
   ],
   "source": [
    "len(test_id)"
   ]
  },
  {
   "cell_type": "code",
   "execution_count": 55,
   "metadata": {},
   "outputs": [],
   "source": [
    "create_csv_submission(test_id,y_pred, \"./Submissions/SVM_SUB.csv\")"
   ]
  }
 ],
 "metadata": {
  "kernelspec": {
   "display_name": "Python 3",
   "language": "python",
   "name": "python3"
  },
  "language_info": {
   "codemirror_mode": {
    "name": "ipython",
    "version": 3
   },
   "file_extension": ".py",
   "mimetype": "text/x-python",
   "name": "python",
   "nbconvert_exporter": "python",
   "pygments_lexer": "ipython3",
   "version": "3.7.4"
  }
 },
 "nbformat": 4,
 "nbformat_minor": 2
}
