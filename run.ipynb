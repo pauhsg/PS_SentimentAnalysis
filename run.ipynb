{
 "cells": [
  {
   "cell_type": "code",
   "execution_count": 1,
   "metadata": {},
   "outputs": [],
   "source": [
    "from twts_preprocess import *"
   ]
  },
  {
   "cell_type": "code",
   "execution_count": 2,
   "metadata": {},
   "outputs": [],
   "source": [
    "DATA_TRAIN_POS_PATH = './Datasets/twitter-datasets/train_pos.txt'  \n",
    "DATA_TRAIN_NEG_PATH = './Datasets/twitter-datasets/train_neg.txt'\n",
    "\n",
    "DATA_TEST_PATH = './Datasets/twitter-datasets/test_data.txt'"
   ]
  },
  {
   "cell_type": "code",
   "execution_count": 3,
   "metadata": {},
   "outputs": [],
   "source": [
    "# load the data files = list with each line being a tweet\n",
    "pos_data = open(DATA_TRAIN_POS_PATH, \"r\").read().splitlines()\n",
    "neg_data = open(DATA_TRAIN_NEG_PATH, \"r\").read().splitlines()\n",
    "\n",
    "test_data = open(DATA_TEST_PATH, \"r\").read().splitlines()"
   ]
  },
  {
   "cell_type": "code",
   "execution_count": 4,
   "metadata": {},
   "outputs": [],
   "source": [
    "# test pipeline with a little subset of pos_data\n",
    "pos_data = pos_data[1:25]"
   ]
  },
  {
   "cell_type": "code",
   "execution_count": 5,
   "metadata": {},
   "outputs": [
    {
     "name": "stdout",
     "output_type": "stream",
     "text": [
      "> running preprocessing pipeline\n",
      "> saving datas in the format ['tweet1', 'tweet2', ...]\n",
      "> saving datas in the format one tweet per line and no [] or '' \n",
      "> saving datas in the format ['tweet1', 'tweet2', ...]\n",
      "> saving datas in the format one tweet per line and no [] or '' \n"
     ]
    }
   ],
   "source": [
    "pp_pos_data = preprocessing(pos_data)\n",
    "save_pp_data1(pp_pos_data, './Results/pp_pos_format1.txt')\n",
    "save_pp_data2(pp_pos_data, './Results/pp_pos_format2.txt')\n",
    "\n",
    "# remove duplicates and save\n",
    "pp_pos_data_ = remove_twt_duplicates(pp_pos_data)\n",
    "save_pp_data1(pp_pos_data_, './Results/pp_pos_format1_nd.txt')\n",
    "save_pp_data2(pp_pos_data_, './Results/pp_pos_format2_nd.txt')"
   ]
  }
 ],
 "metadata": {
  "kernelspec": {
   "display_name": "Python 3",
   "language": "python",
   "name": "python3"
  },
  "language_info": {
   "codemirror_mode": {
    "name": "ipython",
    "version": 3
   },
   "file_extension": ".py",
   "mimetype": "text/x-python",
   "name": "python",
   "nbconvert_exporter": "python",
   "pygments_lexer": "ipython3",
   "version": "3.7.1"
  }
 },
 "nbformat": 4,
 "nbformat_minor": 2
}
