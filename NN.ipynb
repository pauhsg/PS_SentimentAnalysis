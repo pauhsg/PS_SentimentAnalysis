{
 "cells": [
  {
   "cell_type": "code",
   "execution_count": 1,
   "metadata": {},
   "outputs": [],
   "source": [
    "import matplotlib.pylab as plt\n",
    "\n",
    "from sklearn.model_selection import train_test_split\n",
    "from sklearn.metrics import confusion_matrix\n",
    "from sklearn.preprocessing import MinMaxScaler\n",
    "from sklearn.decomposition import PCA\n",
    "from sklearn.linear_model import LinearRegression\n",
    "from sklearn import linear_model\n",
    "from sklearn.neural_network import MLPClassifier\n",
    "\n",
    "import warnings \n",
    "warnings.simplefilter('ignore')\n",
    "\n",
    "from proj2_helpers import *\n",
    "from get_embeddings_ML import *"
   ]
  },
  {
   "cell_type": "markdown",
   "metadata": {},
   "source": [
    "### DATA LOADING"
   ]
  },
  {
   "cell_type": "code",
   "execution_count": 2,
   "metadata": {},
   "outputs": [],
   "source": [
    "DIM_EMB = 20"
   ]
  },
  {
   "cell_type": "code",
   "execution_count": 3,
   "metadata": {},
   "outputs": [],
   "source": [
    "COOC_PATH = './Results/cooc.pkl'\n",
    "VOC_PATH = './Results/vocab.pkl'\n",
    "EMBEDDINGS_PATH = './Results/embeddings.npy'\n",
    "RESULT_POS_PATH = './Results/pp_pos_otpl_nd.txt'\n",
    "RESULT_NEG_PATH = './Results/pp_neg_otpl_nd.txt'"
   ]
  },
  {
   "cell_type": "code",
   "execution_count": 4,
   "metadata": {},
   "outputs": [],
   "source": [
    "#load pickle files\n",
    "cooc_matrix = open_pickle_file(COOC_PATH)\n",
    "vocabulary = open_pickle_file(VOC_PATH)\n",
    "\n",
    "# load numpy files \n",
    "embeddings = np.load(EMBEDDINGS_PATH)\n",
    "\n",
    "# load the data files = list with each line being a tweet\n",
    "result_pos = open(RESULT_POS_PATH, \"r\").read().splitlines()\n",
    "result_neg = open(RESULT_NEG_PATH, \"r\").read().splitlines()"
   ]
  },
  {
   "cell_type": "markdown",
   "metadata": {},
   "source": [
    "### EXTRACTING MEAN WORD VECTOR ON TRAIN SETS "
   ]
  },
  {
   "cell_type": "code",
   "execution_count": 5,
   "metadata": {},
   "outputs": [
    {
     "name": "stdout",
     "output_type": "stream",
     "text": [
      "> process pos and neg datas to get X and y to perform ML\n",
      "> extracting mean of word vectors\n",
      "> extracting mean of word vectors\n",
      "> X and y informations:\n",
      "X shape: (173211, 20)\n",
      "y shape: (173211,)\n"
     ]
    }
   ],
   "source": [
    "full_df, X, y = process_train_ML(result_pos, result_neg, vocabulary, embeddings, DIM_EMB)"
   ]
  },
  {
   "cell_type": "code",
   "execution_count": 6,
   "metadata": {},
   "outputs": [
    {
     "data": {
      "text/html": [
       "<div>\n",
       "<style scoped>\n",
       "    .dataframe tbody tr th:only-of-type {\n",
       "        vertical-align: middle;\n",
       "    }\n",
       "\n",
       "    .dataframe tbody tr th {\n",
       "        vertical-align: top;\n",
       "    }\n",
       "\n",
       "    .dataframe thead th {\n",
       "        text-align: right;\n",
       "    }\n",
       "</style>\n",
       "<table border=\"1\" class=\"dataframe\">\n",
       "  <thead>\n",
       "    <tr style=\"text-align: right;\">\n",
       "      <th></th>\n",
       "      <th>Sentiment</th>\n",
       "      <th>Tweet</th>\n",
       "      <th>Token_idx</th>\n",
       "      <th>Words_Vectors</th>\n",
       "      <th>Mean_Word_Vector</th>\n",
       "    </tr>\n",
       "  </thead>\n",
       "  <tbody>\n",
       "    <tr>\n",
       "      <th>147433</th>\n",
       "      <td>-1</td>\n",
       "      <td>jakdjfiekrb llookololollilololloolahhahahaah s...</td>\n",
       "      <td>[70, 153, 72, 43, 34]</td>\n",
       "      <td>[[0.003642823390512998, 0.005394791249566722, ...</td>\n",
       "      <td>[-0.004397644960120166, 0.25574623182815653, 0...</td>\n",
       "    </tr>\n",
       "    <tr>\n",
       "      <th>64027</th>\n",
       "      <td>1</td>\n",
       "      <td>mao dint say mad hate intend honestly opinion ...</td>\n",
       "      <td>[131, 393, 19, 342, 77, 3336, 901, 1668, 23, 6...</td>\n",
       "      <td>[[0.3467194198466407, -0.5675544513276719, -0....</td>\n",
       "      <td>[0.24967995200149984, 0.01875153420202026, -0....</td>\n",
       "    </tr>\n",
       "    <tr>\n",
       "      <th>112321</th>\n",
       "      <td>-1</td>\n",
       "      <td>lol nothing capital</td>\n",
       "      <td>[8, 184, 2619]</td>\n",
       "      <td>[[0.0933014423351884, 0.2565771837810636, 0.17...</td>\n",
       "      <td>[-0.35962708197807086, -0.11551506496490209, 0...</td>\n",
       "    </tr>\n",
       "    <tr>\n",
       "      <th>59152</th>\n",
       "      <td>1</td>\n",
       "      <td>finish polish piano</td>\n",
       "      <td>[300, 2186, 2052]</td>\n",
       "      <td>[[-1.3390706625611073, -0.23074007833481763, -...</td>\n",
       "      <td>[-0.5810102191418206, 0.11676813482743227, 0.6...</td>\n",
       "    </tr>\n",
       "    <tr>\n",
       "      <th>116892</th>\n",
       "      <td>-1</td>\n",
       "      <td>money try</td>\n",
       "      <td>[285, 66]</td>\n",
       "      <td>[[0.18573586713262988, 0.2320613939777014, -0....</td>\n",
       "      <td>[0.37664911997687434, -0.04074976508762827, -0...</td>\n",
       "    </tr>\n",
       "  </tbody>\n",
       "</table>\n",
       "</div>"
      ],
      "text/plain": [
       "        Sentiment                                              Tweet  \\\n",
       "147433         -1  jakdjfiekrb llookololollilololloolahhahahaah s...   \n",
       "64027           1  mao dint say mad hate intend honestly opinion ...   \n",
       "112321         -1                                lol nothing capital   \n",
       "59152           1                                finish polish piano   \n",
       "116892         -1                                          money try   \n",
       "\n",
       "                                                Token_idx  \\\n",
       "147433                              [70, 153, 72, 43, 34]   \n",
       "64027   [131, 393, 19, 342, 77, 3336, 901, 1668, 23, 6...   \n",
       "112321                                     [8, 184, 2619]   \n",
       "59152                                   [300, 2186, 2052]   \n",
       "116892                                          [285, 66]   \n",
       "\n",
       "                                            Words_Vectors  \\\n",
       "147433  [[0.003642823390512998, 0.005394791249566722, ...   \n",
       "64027   [[0.3467194198466407, -0.5675544513276719, -0....   \n",
       "112321  [[0.0933014423351884, 0.2565771837810636, 0.17...   \n",
       "59152   [[-1.3390706625611073, -0.23074007833481763, -...   \n",
       "116892  [[0.18573586713262988, 0.2320613939777014, -0....   \n",
       "\n",
       "                                         Mean_Word_Vector  \n",
       "147433  [-0.004397644960120166, 0.25574623182815653, 0...  \n",
       "64027   [0.24967995200149984, 0.01875153420202026, -0....  \n",
       "112321  [-0.35962708197807086, -0.11551506496490209, 0...  \n",
       "59152   [-0.5810102191418206, 0.11676813482743227, 0.6...  \n",
       "116892  [0.37664911997687434, -0.04074976508762827, -0...  "
      ]
     },
     "execution_count": 6,
     "metadata": {},
     "output_type": "execute_result"
    }
   ],
   "source": [
    "# check full_df\n",
    "full_df.head()"
   ]
  },
  {
   "cell_type": "markdown",
   "metadata": {},
   "source": [
    "### PCA ON TRAIN SETS"
   ]
  },
  {
   "cell_type": "code",
   "execution_count": 7,
   "metadata": {},
   "outputs": [],
   "source": [
    "scaler = MinMaxScaler(feature_range=[0, 1])"
   ]
  },
  {
   "cell_type": "code",
   "execution_count": 8,
   "metadata": {},
   "outputs": [],
   "source": [
    "X_rescaled = scaler.fit_transform(X)"
   ]
  },
  {
   "cell_type": "code",
   "execution_count": 9,
   "metadata": {},
   "outputs": [
    {
     "data": {
      "image/png": "[encoded data removed]",
      "text/plain": [
       "<Figure size 720x360 with 1 Axes>"
      ]
     },
     "metadata": {
      "needs_background": "light"
     },
     "output_type": "display_data"
    }
   ],
   "source": [
    "#Fitting the PCA algorithm with our Data\n",
    "pca = PCA().fit(X_rescaled)\n",
    "#Plotting the Cumulative Summation of the Explained Variance\n",
    "fig = plt.figure(figsize=(10,5))\n",
    "x=np.cumsum(pca.explained_variance_ratio_)\n",
    "plt.plot(x)\n",
    "plt.xlabel('Number of Components')\n",
    "plt.ylabel('Variance (%)') #for each component\n",
    "plt.title('Pulsar Dataset Explained Variance')\n",
    "plt.yticks(np.arange(0, 1, 0.1))\n",
    "plt.axhline(y=0.9,color='gray',linestyle='--')\n",
    "plt.axvline(x=16,color='gray',linestyle='--')\n",
    "plt.show()"
   ]
  },
  {
   "cell_type": "markdown",
   "metadata": {},
   "source": [
    "We see that we have selecting 16 components we can preserve something around 90% of the total variance of the data."
   ]
  },
  {
   "cell_type": "code",
   "execution_count": 10,
   "metadata": {},
   "outputs": [],
   "source": [
    "pca = PCA(n_components=16)\n",
    "dataset = pca.fit_transform(X_rescaled)"
   ]
  },
  {
   "cell_type": "markdown",
   "metadata": {},
   "source": [
    "### TRYING SVM FITTING"
   ]
  },
  {
   "cell_type": "code",
   "execution_count": 11,
   "metadata": {
    "scrolled": true
   },
   "outputs": [],
   "source": [
    "X_train, X_test, y_train, y_test = train_test_split(dataset, y, random_state=0)"
   ]
  },
  {
   "cell_type": "code",
   "execution_count": 12,
   "metadata": {},
   "outputs": [],
   "source": [
    "clf = MLPClassifier(solver='adam', alpha=1e-4, \n",
    "                     hidden_layer_sizes=(2, 16), random_state=4, verbose=False, learning_rate='constant')\n",
    "clf.fit(X_train, y_train)\n",
    "y_pred = clf.predict(X_test)"
   ]
  },
  {
   "cell_type": "code",
   "execution_count": 13,
   "metadata": {},
   "outputs": [],
   "source": [
    "cm = confusion_matrix(y_test, y_pred)\n",
    "accuracy = (cm[0][0] + cm[1][1]) / (cm[0][0] + cm[0][1] + cm[1][0] + cm[1][1])"
   ]
  },
  {
   "cell_type": "code",
   "execution_count": 14,
   "metadata": {},
   "outputs": [
    {
     "data": {
      "text/plain": [
       "0.5907673833221717"
      ]
     },
     "execution_count": 14,
     "metadata": {},
     "output_type": "execute_result"
    }
   ],
   "source": [
    "accuracy"
   ]
  },
  {
   "cell_type": "markdown",
   "metadata": {},
   "source": [
    "### EXTRACTING MEAN WORD VECTOR ON TEST SETS"
   ]
  },
  {
   "cell_type": "code",
   "execution_count": 15,
   "metadata": {},
   "outputs": [],
   "source": [
    "RES_PATH = './Results/pp_test_otpl.txt'\n",
    "test_set = open(RES_PATH, \"r\").read().splitlines()"
   ]
  },
  {
   "cell_type": "code",
   "execution_count": 16,
   "metadata": {
    "scrolled": true
   },
   "outputs": [
    {
     "name": "stdout",
     "output_type": "stream",
     "text": [
      "> process test data to get X_test and perform ML\n",
      "> extracting mean of word vectors\n",
      "> X_test informations:\n",
      "X_test shape: (10000, 20)\n"
     ]
    }
   ],
   "source": [
    "test_df, X_test = process_test_ML(test_set, vocabulary, embeddings, DIM_EMB)"
   ]
  },
  {
   "cell_type": "code",
   "execution_count": 17,
   "metadata": {},
   "outputs": [
    {
     "data": {
      "text/html": [
       "<div>\n",
       "<style scoped>\n",
       "    .dataframe tbody tr th:only-of-type {\n",
       "        vertical-align: middle;\n",
       "    }\n",
       "\n",
       "    .dataframe tbody tr th {\n",
       "        vertical-align: top;\n",
       "    }\n",
       "\n",
       "    .dataframe thead th {\n",
       "        text-align: right;\n",
       "    }\n",
       "</style>\n",
       "<table border=\"1\" class=\"dataframe\">\n",
       "  <thead>\n",
       "    <tr style=\"text-align: right;\">\n",
       "      <th></th>\n",
       "      <th>Tweet_submission_id</th>\n",
       "      <th>Tweet</th>\n",
       "      <th>Token_idx</th>\n",
       "      <th>Words_Vectors</th>\n",
       "      <th>Mean_Word_Vector</th>\n",
       "    </tr>\n",
       "  </thead>\n",
       "  <tbody>\n",
       "    <tr>\n",
       "      <th>0</th>\n",
       "      <td>1</td>\n",
       "      <td>sea doo pro sea scooter sport portable sea doo...</td>\n",
       "      <td>[1080, 2079, 487, 1080, 4060, 436, 1953, 1080,...</td>\n",
       "      <td>[[0.05158963813757297, 0.6781468996605737, 0.9...</td>\n",
       "      <td>[-0.10496181848914964, 0.4119806442015578, 0.0...</td>\n",
       "    </tr>\n",
       "    <tr>\n",
       "      <th>1</th>\n",
       "      <td>2</td>\n",
       "      <td>shuck well work week come cheer put battery ca...</td>\n",
       "      <td>[7244, 22, 28, 78, 17, 460, 156, 377, 6802]</td>\n",
       "      <td>[[-1.964357932232306, -0.6532326614409995, 1.1...</td>\n",
       "      <td>[-0.1128173180802276, 0.15274609546806145, 0.1...</td>\n",
       "    </tr>\n",
       "    <tr>\n",
       "      <th>2</th>\n",
       "      <td>3</td>\n",
       "      <td>stay away bug that baby</td>\n",
       "      <td>[163, 171, 1375, 166, 76]</td>\n",
       "      <td>[[-0.15648611549527638, 0.4243422381533018, 0....</td>\n",
       "      <td>[0.0516271705271963, 0.15064011258872687, 0.05...</td>\n",
       "    </tr>\n",
       "    <tr>\n",
       "      <th>3</th>\n",
       "      <td>4</td>\n",
       "      <td>madam lol perfectly fine contagious anymore mao</td>\n",
       "      <td>[2301, 8, 2870, 301, 6481, 241, 131]</td>\n",
       "      <td>[[1.04641716287068, 1.437551778546295, 0.47460...</td>\n",
       "      <td>[-0.18122458119427837, 0.08436115955538172, 0....</td>\n",
       "    </tr>\n",
       "    <tr>\n",
       "      <th>4</th>\n",
       "      <td>5</td>\n",
       "      <td>whenever fall asleep watch always wake headache</td>\n",
       "      <td>[1113, 331, 604, 42, 63, 223, 817]</td>\n",
       "      <td>[[0.5508442356920994, -1.057080660186159, -0.3...</td>\n",
       "      <td>[0.17526036896882685, 0.012836109258537636, -0...</td>\n",
       "    </tr>\n",
       "  </tbody>\n",
       "</table>\n",
       "</div>"
      ],
      "text/plain": [
       "   Tweet_submission_id                                              Tweet  \\\n",
       "0                    1  sea doo pro sea scooter sport portable sea doo...   \n",
       "1                    2  shuck well work week come cheer put battery ca...   \n",
       "2                    3                            stay away bug that baby   \n",
       "3                    4    madam lol perfectly fine contagious anymore mao   \n",
       "4                    5    whenever fall asleep watch always wake headache   \n",
       "\n",
       "                                           Token_idx  \\\n",
       "0  [1080, 2079, 487, 1080, 4060, 436, 1953, 1080,...   \n",
       "1        [7244, 22, 28, 78, 17, 460, 156, 377, 6802]   \n",
       "2                          [163, 171, 1375, 166, 76]   \n",
       "3               [2301, 8, 2870, 301, 6481, 241, 131]   \n",
       "4                 [1113, 331, 604, 42, 63, 223, 817]   \n",
       "\n",
       "                                       Words_Vectors  \\\n",
       "0  [[0.05158963813757297, 0.6781468996605737, 0.9...   \n",
       "1  [[-1.964357932232306, -0.6532326614409995, 1.1...   \n",
       "2  [[-0.15648611549527638, 0.4243422381533018, 0....   \n",
       "3  [[1.04641716287068, 1.437551778546295, 0.47460...   \n",
       "4  [[0.5508442356920994, -1.057080660186159, -0.3...   \n",
       "\n",
       "                                    Mean_Word_Vector  \n",
       "0  [-0.10496181848914964, 0.4119806442015578, 0.0...  \n",
       "1  [-0.1128173180802276, 0.15274609546806145, 0.1...  \n",
       "2  [0.0516271705271963, 0.15064011258872687, 0.05...  \n",
       "3  [-0.18122458119427837, 0.08436115955538172, 0....  \n",
       "4  [0.17526036896882685, 0.012836109258537636, -0...  "
      ]
     },
     "execution_count": 17,
     "metadata": {},
     "output_type": "execute_result"
    }
   ],
   "source": [
    "# check full_df\n",
    "test_df.head()"
   ]
  },
  {
   "cell_type": "markdown",
   "metadata": {},
   "source": [
    "### MINMAXSCALER AND PCA ON TEST SETS"
   ]
  },
  {
   "cell_type": "code",
   "execution_count": 18,
   "metadata": {},
   "outputs": [],
   "source": [
    "test_rescaled = scaler.fit_transform(X_test)"
   ]
  },
  {
   "cell_type": "code",
   "execution_count": 19,
   "metadata": {},
   "outputs": [],
   "source": [
    "pca = PCA(n_components=16)\n",
    "test= pca.fit_transform(test_rescaled)"
   ]
  },
  {
   "cell_type": "code",
   "execution_count": 20,
   "metadata": {},
   "outputs": [],
   "source": [
    "clf = MLPClassifier(solver='adam', alpha=1e-4, \n",
    "                     hidden_layer_sizes=(2, 16), random_state=4, verbose=False, learning_rate='constant')\n",
    "clf.fit(dataset, y)\n",
    "y_pred = clf.predict(test)"
   ]
  },
  {
   "cell_type": "code",
   "execution_count": 21,
   "metadata": {},
   "outputs": [
    {
     "data": {
      "text/plain": [
       "10000"
      ]
     },
     "execution_count": 21,
     "metadata": {},
     "output_type": "execute_result"
    }
   ],
   "source": [
    "len(y_pred)"
   ]
  },
  {
   "cell_type": "markdown",
   "metadata": {},
   "source": [
    "### CREATE A SUBMISSION"
   ]
  },
  {
   "cell_type": "code",
   "execution_count": 22,
   "metadata": {},
   "outputs": [],
   "source": [
    "test_id = test_df['Tweet_submission_id'].to_numpy()"
   ]
  },
  {
   "cell_type": "code",
   "execution_count": 23,
   "metadata": {},
   "outputs": [
    {
     "data": {
      "text/plain": [
       "10000"
      ]
     },
     "execution_count": 23,
     "metadata": {},
     "output_type": "execute_result"
    }
   ],
   "source": [
    "len(test_id)"
   ]
  },
  {
   "cell_type": "code",
   "execution_count": 24,
   "metadata": {},
   "outputs": [],
   "source": [
    "create_csv_submission(test_id,y_pred, \"./Submissions/NN_SUB.csv\")"
   ]
  },
  {
   "cell_type": "code",
   "execution_count": null,
   "metadata": {},
   "outputs": [],
   "source": []
  }
 ],
 "metadata": {
  "kernelspec": {
   "display_name": "Python 3",
   "language": "python",
   "name": "python3"
  },
  "language_info": {
   "codemirror_mode": {
    "name": "ipython",
    "version": 3
   },
   "file_extension": ".py",
   "mimetype": "text/x-python",
   "name": "python",
   "nbconvert_exporter": "python",
   "pygments_lexer": "ipython3",
   "version": "3.7.1"
  }
 },
 "nbformat": 4,
 "nbformat_minor": 2
}
