{
 "cells": [
  {
   "cell_type": "code",
   "execution_count": 1,
   "metadata": {},
   "outputs": [],
   "source": [
    "from sklearn.svm import LinearSVC\n",
    "\n",
    "import warnings \n",
    "warnings.simplefilter('ignore')\n",
    "\n",
    "from proj2_helpers import *\n",
    "from get_embeddings_ML import *\n",
    "from ML_sklearn import * "
   ]
  },
  {
   "cell_type": "code",
   "execution_count": 2,
   "metadata": {},
   "outputs": [],
   "source": [
    "DIM_EMB = 20"
   ]
  },
  {
   "cell_type": "code",
   "execution_count": 3,
   "metadata": {},
   "outputs": [],
   "source": [
    "testsize = 0.2"
   ]
  },
  {
   "cell_type": "code",
   "execution_count": 4,
   "metadata": {},
   "outputs": [],
   "source": [
    "COOC_PATH = './Results/cooc.pkl'\n",
    "VOC_PATH = './Results/vocab.pkl'\n",
    "EMBEDDINGS_PATH = './Results/embeddings.npy'\n",
    "PP_POS_PATH = './Results/pp_pos_otpl_nd.txt'\n",
    "PP_NEG_PATH = './Results/pp_neg_otpl_nd.txt'\n",
    "PP_TEST_PATH = './Results/pp_test_otpl.txt'"
   ]
  },
  {
   "cell_type": "code",
   "execution_count": 5,
   "metadata": {},
   "outputs": [],
   "source": [
    "#load pickle files\n",
    "cooc_matrix = open_pickle_file(COOC_PATH)\n",
    "vocabulary = open_pickle_file(VOC_PATH)\n",
    "\n",
    "# load numpy files \n",
    "embeddings = np.load(EMBEDDINGS_PATH)\n",
    "\n",
    "# load the data files = list with each line being a tweet\n",
    "pos = open(PP_POS_PATH, \"r\").read().splitlines()\n",
    "neg = open(PP_NEG_PATH, \"r\").read().splitlines()\n",
    "test = open(PP_TEST_PATH, \"r\").read().splitlines()"
   ]
  },
  {
   "cell_type": "code",
   "execution_count": 6,
   "metadata": {},
   "outputs": [
    {
     "name": "stdout",
     "output_type": "stream",
     "text": [
      "> process pos and neg datas to get X and y to perform ML\n",
      "> extracting mean of word vectors\n",
      "> extracting mean of word vectors\n",
      "> X and y informations:\n",
      "X shape: (173211, 20)\n",
      "y shape: (173211,)\n"
     ]
    }
   ],
   "source": [
    "full_df, X, y = process_train_ML(pos, neg, vocabulary, embeddings, DIM_EMB)"
   ]
  },
  {
   "cell_type": "code",
   "execution_count": 7,
   "metadata": {},
   "outputs": [
    {
     "data": {
      "text/html": [
       "<div>\n",
       "<style scoped>\n",
       "    .dataframe tbody tr th:only-of-type {\n",
       "        vertical-align: middle;\n",
       "    }\n",
       "\n",
       "    .dataframe tbody tr th {\n",
       "        vertical-align: top;\n",
       "    }\n",
       "\n",
       "    .dataframe thead th {\n",
       "        text-align: right;\n",
       "    }\n",
       "</style>\n",
       "<table border=\"1\" class=\"dataframe\">\n",
       "  <thead>\n",
       "    <tr style=\"text-align: right;\">\n",
       "      <th></th>\n",
       "      <th>Sentiment</th>\n",
       "      <th>Tweet</th>\n",
       "      <th>Token_idx</th>\n",
       "      <th>Words_Vectors</th>\n",
       "      <th>Mean_Word_Vector</th>\n",
       "    </tr>\n",
       "  </thead>\n",
       "  <tbody>\n",
       "    <tr>\n",
       "      <th>108568</th>\n",
       "      <td>-1</td>\n",
       "      <td>value plastic straight thru connector classic ...</td>\n",
       "      <td>[1457, 1300, 757, 1346, 3481, 416, 5252, 1680,...</td>\n",
       "      <td>[[0.921087282294104, 0.6660096642252515, -0.44...</td>\n",
       "      <td>[0.346915998962159, 0.003536900801167628, 0.20...</td>\n",
       "    </tr>\n",
       "    <tr>\n",
       "      <th>132406</th>\n",
       "      <td>-1</td>\n",
       "      <td>highlight night think ever</td>\n",
       "      <td>[2718, 35, 14, 98]</td>\n",
       "      <td>[[-1.1045690484837059, -1.013480140586544, -1....</td>\n",
       "      <td>[-0.3390802296301148, -0.07767775944154215, -0...</td>\n",
       "    </tr>\n",
       "    <tr>\n",
       "      <th>163747</th>\n",
       "      <td>-1</td>\n",
       "      <td>isle brother fight power part via</td>\n",
       "      <td>[6402, 272, 621, 350, 251, 214]</td>\n",
       "      <td>[[-3.0439756217167195, 0.487460673667898, 0.79...</td>\n",
       "      <td>[-0.8841985301451679, 0.06025797109092868, 0.1...</td>\n",
       "    </tr>\n",
       "    <tr>\n",
       "      <th>124531</th>\n",
       "      <td>-1</td>\n",
       "      <td>wikipedia say inch fifa inch quite annoying</td>\n",
       "      <td>[7562, 19, 269, 4180, 269, 809, 939]</td>\n",
       "      <td>[[0.08461879653872884, 0.7299922504540574, -0....</td>\n",
       "      <td>[-0.2557247299338153, 0.6422046270587842, 0.04...</td>\n",
       "    </tr>\n",
       "    <tr>\n",
       "      <th>140551</th>\n",
       "      <td>-1</td>\n",
       "      <td>countdown day surgery brace suck</td>\n",
       "      <td>[2486, 6, 1693, 1635, 230]</td>\n",
       "      <td>[[-0.7559057031943107, 1.362270713380793, 1.56...</td>\n",
       "      <td>[-0.12065386120955246, 0.3801169400099208, 0.2...</td>\n",
       "    </tr>\n",
       "  </tbody>\n",
       "</table>\n",
       "</div>"
      ],
      "text/plain": [
       "        Sentiment                                              Tweet  \\\n",
       "108568         -1  value plastic straight thru connector classic ...   \n",
       "132406         -1                         highlight night think ever   \n",
       "163747         -1                  isle brother fight power part via   \n",
       "124531         -1        wikipedia say inch fifa inch quite annoying   \n",
       "140551         -1                   countdown day surgery brace suck   \n",
       "\n",
       "                                                Token_idx  \\\n",
       "108568  [1457, 1300, 757, 1346, 3481, 416, 5252, 1680,...   \n",
       "132406                                 [2718, 35, 14, 98]   \n",
       "163747                    [6402, 272, 621, 350, 251, 214]   \n",
       "124531               [7562, 19, 269, 4180, 269, 809, 939]   \n",
       "140551                         [2486, 6, 1693, 1635, 230]   \n",
       "\n",
       "                                            Words_Vectors  \\\n",
       "108568  [[0.921087282294104, 0.6660096642252515, -0.44...   \n",
       "132406  [[-1.1045690484837059, -1.013480140586544, -1....   \n",
       "163747  [[-3.0439756217167195, 0.487460673667898, 0.79...   \n",
       "124531  [[0.08461879653872884, 0.7299922504540574, -0....   \n",
       "140551  [[-0.7559057031943107, 1.362270713380793, 1.56...   \n",
       "\n",
       "                                         Mean_Word_Vector  \n",
       "108568  [0.346915998962159, 0.003536900801167628, 0.20...  \n",
       "132406  [-0.3390802296301148, -0.07767775944154215, -0...  \n",
       "163747  [-0.8841985301451679, 0.06025797109092868, 0.1...  \n",
       "124531  [-0.2557247299338153, 0.6422046270587842, 0.04...  \n",
       "140551  [-0.12065386120955246, 0.3801169400099208, 0.2...  "
      ]
     },
     "execution_count": 7,
     "metadata": {},
     "output_type": "execute_result"
    }
   ],
   "source": [
    "# check full_df\n",
    "full_df.head()"
   ]
  },
  {
   "cell_type": "code",
   "execution_count": 8,
   "metadata": {},
   "outputs": [
    {
     "name": "stdout",
     "output_type": "stream",
     "text": [
      "> splitting datas into train and test sets\n",
      "> standardizing\n",
      "> performing PCA\n",
      "Train set: X shape:  (138568, 19) y shape: (138568,)\n",
      "Test set: X shape:  (34643, 19) y shape: (34643,)\n"
     ]
    }
   ],
   "source": [
    "X_train, X_test, y_train, y_test, scaler, pca = split_standardize_pca(X, y, testsize)"
   ]
  },
  {
   "cell_type": "code",
   "execution_count": 9,
   "metadata": {},
   "outputs": [
    {
     "name": "stdout",
     "output_type": "stream",
     "text": [
      "0.5830615131483994\n"
     ]
    }
   ],
   "source": [
    "svc = LinearSVC()\n",
    "svc.fit(X_train, y_train)\n",
    "y_pred = svc.predict(X_test)\n",
    "compute_accuracy(y_test, y_pred)"
   ]
  },
  {
   "cell_type": "code",
   "execution_count": 10,
   "metadata": {},
   "outputs": [
    {
     "name": "stdout",
     "output_type": "stream",
     "text": [
      "> process test data to get X_test and perform ML\n",
      "> extracting mean of word vectors\n",
      "> X_test informations:\n",
      "X_test shape: (10000, 20)\n"
     ]
    }
   ],
   "source": [
    "df_test, testx = process_test_ML(test, vocabulary, embeddings, DIM_EMB)"
   ]
  },
  {
   "cell_type": "code",
   "execution_count": 11,
   "metadata": {},
   "outputs": [],
   "source": [
    "testx = std_pca_test(testx, scaler, pca)"
   ]
  },
  {
   "cell_type": "code",
   "execution_count": 12,
   "metadata": {},
   "outputs": [],
   "source": [
    "y_pred_test = svc.predict(testx)"
   ]
  },
  {
   "cell_type": "code",
   "execution_count": 13,
   "metadata": {},
   "outputs": [
    {
     "name": "stdout",
     "output_type": "stream",
     "text": [
      "verify length of test:  10000\n"
     ]
    }
   ],
   "source": [
    "create_submission(df_test, y_pred_test, './Submissions/SVM_we.csv')"
   ]
  }
 ],
 "metadata": {
  "kernelspec": {
   "display_name": "Python 3",
   "language": "python",
   "name": "python3"
  },
  "language_info": {
   "codemirror_mode": {
    "name": "ipython",
    "version": 3
   },
   "file_extension": ".py",
   "mimetype": "text/x-python",
   "name": "python",
   "nbconvert_exporter": "python",
   "pygments_lexer": "ipython3",
   "version": "3.7.1"
  }
 },
 "nbformat": 4,
 "nbformat_minor": 2
}
