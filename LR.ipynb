{
 "cells": [
  {
   "cell_type": "code",
   "execution_count": 1,
   "metadata": {},
   "outputs": [],
   "source": [
    "import matplotlib.pylab as plt\n",
    "\n",
    "from sklearn.model_selection import train_test_split\n",
    "from sklearn.metrics import confusion_matrix\n",
    "from sklearn.preprocessing import MinMaxScaler\n",
    "from sklearn.decomposition import PCA\n",
    "from sklearn.linear_model import LinearRegression\n",
    "from sklearn import linear_model\n",
    "\n",
    "import warnings \n",
    "warnings.simplefilter('ignore')\n",
    "\n",
    "from proj2_helpers import *\n",
    "from get_embeddings_ML import *"
   ]
  },
  {
   "cell_type": "markdown",
   "metadata": {},
   "source": [
    "### DATA LOADING"
   ]
  },
  {
   "cell_type": "code",
   "execution_count": 2,
   "metadata": {},
   "outputs": [],
   "source": [
    "DIM_EMB = 20"
   ]
  },
  {
   "cell_type": "code",
   "execution_count": 3,
   "metadata": {},
   "outputs": [],
   "source": [
    "COOC_PATH = './Results/cooc.pkl'\n",
    "VOC_PATH = './Results/vocab.pkl'\n",
    "EMBEDDINGS_PATH = './Results/embeddings.npy'\n",
    "RESULT_POS_PATH = './Results/resPtrain_nd.txt'\n",
    "RESULT_NEG_PATH = './Results/resNtrain_nd.txt'"
   ]
  },
  {
   "cell_type": "code",
   "execution_count": 4,
   "metadata": {},
   "outputs": [],
   "source": [
    "#load pickle files\n",
    "cooc_matrix = open_pickle_file(COOC_PATH)\n",
    "vocabulary = open_pickle_file(VOC_PATH)\n",
    "\n",
    "# load numpy files \n",
    "embeddings = np.load(EMBEDDINGS_PATH)\n",
    "\n",
    "# load the data files = list with each line being a tweet\n",
    "result_pos = open(RESULT_POS_PATH, \"r\").read().splitlines()\n",
    "result_neg = open(RESULT_NEG_PATH, \"r\").read().splitlines()"
   ]
  },
  {
   "cell_type": "markdown",
   "metadata": {},
   "source": [
    "### EXTRACTING MEAN WORD VECTORS ON TRAIN SET"
   ]
  },
  {
   "cell_type": "code",
   "execution_count": 5,
   "metadata": {
    "scrolled": true
   },
   "outputs": [
    {
     "name": "stdout",
     "output_type": "stream",
     "text": [
      "> process pos and neg datas to get X and y to perform ML\n",
      "> extracting mean of word vectors\n",
      "> extracting mean of word vectors\n",
      "> X and y informations:\n",
      "X shape: (172894, 20)\n",
      "y shape: (172894,)\n"
     ]
    }
   ],
   "source": [
    "full_df, X, y = process_train_ML(result_pos, result_neg, vocabulary, embeddings, DIM_EMB)"
   ]
  },
  {
   "cell_type": "code",
   "execution_count": 6,
   "metadata": {
    "scrolled": true
   },
   "outputs": [
    {
     "data": {
      "text/html": [
       "<div>\n",
       "<style scoped>\n",
       "    .dataframe tbody tr th:only-of-type {\n",
       "        vertical-align: middle;\n",
       "    }\n",
       "\n",
       "    .dataframe tbody tr th {\n",
       "        vertical-align: top;\n",
       "    }\n",
       "\n",
       "    .dataframe thead th {\n",
       "        text-align: right;\n",
       "    }\n",
       "</style>\n",
       "<table border=\"1\" class=\"dataframe\">\n",
       "  <thead>\n",
       "    <tr style=\"text-align: right;\">\n",
       "      <th></th>\n",
       "      <th>Sentiment</th>\n",
       "      <th>Tweet</th>\n",
       "      <th>Token_idx</th>\n",
       "      <th>Words_Vectors</th>\n",
       "      <th>Mean_Word_Vector</th>\n",
       "    </tr>\n",
       "  </thead>\n",
       "  <tbody>\n",
       "    <tr>\n",
       "      <th>78089</th>\n",
       "      <td>1</td>\n",
       "      <td>'something already know'</td>\n",
       "      <td>[106, 148, 4]</td>\n",
       "      <td>[[-0.15601133777722814, 0.5103517196909816, -0...</td>\n",
       "      <td>[-0.2167531089425446, 0.4137084466302103, -0.1...</td>\n",
       "    </tr>\n",
       "    <tr>\n",
       "      <th>30436</th>\n",
       "      <td>1</td>\n",
       "      <td>'omg emily love poem good writer hope get'</td>\n",
       "      <td>[104, 2480, 1, 2269, 3, 1576, 45, 0]</td>\n",
       "      <td>[[-0.17587936798303583, 0.1557055493558504, -0...</td>\n",
       "      <td>[-0.27453745934545765, 0.3027607534198825, -0....</td>\n",
       "    </tr>\n",
       "    <tr>\n",
       "      <th>101060</th>\n",
       "      <td>-1</td>\n",
       "      <td>'ahh fuck dislocated shoulder'</td>\n",
       "      <td>[272, 85, 1036]</td>\n",
       "      <td>[[-0.598561481010539, 0.2665499652626643, -0.1...</td>\n",
       "      <td>[-0.312526553749823, 0.09994756633141161, 0.05...</td>\n",
       "    </tr>\n",
       "    <tr>\n",
       "      <th>63854</th>\n",
       "      <td>1</td>\n",
       "      <td>'use theta'</td>\n",
       "      <td>[103]</td>\n",
       "      <td>[[0.09282175004277597, -0.005613068669178651, ...</td>\n",
       "      <td>[0.09282175004277597, -0.005613068669178651, -...</td>\n",
       "    </tr>\n",
       "    <tr>\n",
       "      <th>70999</th>\n",
       "      <td>1</td>\n",
       "      <td>'today good day watch glee end'</td>\n",
       "      <td>[23, 3, 5, 42, 1400, 176]</td>\n",
       "      <td>[[-0.44960083705992376, 0.43357049515269874, -...</td>\n",
       "      <td>[-0.48591243660030514, 0.3855489828919015, -0....</td>\n",
       "    </tr>\n",
       "  </tbody>\n",
       "</table>\n",
       "</div>"
      ],
      "text/plain": [
       "        Sentiment                                       Tweet  \\\n",
       "78089           1                    'something already know'   \n",
       "30436           1  'omg emily love poem good writer hope get'   \n",
       "101060         -1              'ahh fuck dislocated shoulder'   \n",
       "63854           1                                 'use theta'   \n",
       "70999           1             'today good day watch glee end'   \n",
       "\n",
       "                                   Token_idx  \\\n",
       "78089                          [106, 148, 4]   \n",
       "30436   [104, 2480, 1, 2269, 3, 1576, 45, 0]   \n",
       "101060                       [272, 85, 1036]   \n",
       "63854                                  [103]   \n",
       "70999              [23, 3, 5, 42, 1400, 176]   \n",
       "\n",
       "                                            Words_Vectors  \\\n",
       "78089   [[-0.15601133777722814, 0.5103517196909816, -0...   \n",
       "30436   [[-0.17587936798303583, 0.1557055493558504, -0...   \n",
       "101060  [[-0.598561481010539, 0.2665499652626643, -0.1...   \n",
       "63854   [[0.09282175004277597, -0.005613068669178651, ...   \n",
       "70999   [[-0.44960083705992376, 0.43357049515269874, -...   \n",
       "\n",
       "                                         Mean_Word_Vector  \n",
       "78089   [-0.2167531089425446, 0.4137084466302103, -0.1...  \n",
       "30436   [-0.27453745934545765, 0.3027607534198825, -0....  \n",
       "101060  [-0.312526553749823, 0.09994756633141161, 0.05...  \n",
       "63854   [0.09282175004277597, -0.005613068669178651, -...  \n",
       "70999   [-0.48591243660030514, 0.3855489828919015, -0....  "
      ]
     },
     "execution_count": 6,
     "metadata": {},
     "output_type": "execute_result"
    }
   ],
   "source": [
    "# check full_df\n",
    "full_df.head()"
   ]
  },
  {
   "cell_type": "markdown",
   "metadata": {},
   "source": [
    "### MINMAXSCALER AND PCA ON TRAIN SETS"
   ]
  },
  {
   "cell_type": "code",
   "execution_count": 7,
   "metadata": {},
   "outputs": [],
   "source": [
    "scaler = MinMaxScaler(feature_range=[0, 1])"
   ]
  },
  {
   "cell_type": "code",
   "execution_count": 8,
   "metadata": {},
   "outputs": [],
   "source": [
    "X_rescaled = scaler.fit_transform(X)"
   ]
  },
  {
   "cell_type": "code",
   "execution_count": 9,
   "metadata": {},
   "outputs": [
    {
     "data": {
      "image/png": "[encoded data removed]",
      "text/plain": [
       "<Figure size 720x360 with 1 Axes>"
      ]
     },
     "metadata": {
      "needs_background": "light"
     },
     "output_type": "display_data"
    }
   ],
   "source": [
    "#Fitting the PCA algorithm with our Data\n",
    "pca = PCA().fit(X_rescaled)\n",
    "#Plotting the Cumulative Summation of the Explained Variance\n",
    "fig = plt.figure(figsize=(10,5))\n",
    "x=np.cumsum(pca.explained_variance_ratio_)\n",
    "plt.plot(x)\n",
    "plt.xlabel('Number of Components')\n",
    "plt.ylabel('Variance (%)') #for each component\n",
    "plt.title('Pulsar Dataset Explained Variance')\n",
    "plt.yticks(np.arange(0, 1, 0.1))\n",
    "plt.axhline(y=0.9,color='gray',linestyle='--')\n",
    "plt.axvline(x=16,color='gray',linestyle='--')\n",
    "plt.show()"
   ]
  },
  {
   "cell_type": "markdown",
   "metadata": {},
   "source": [
    "We see that we have selecting 16 components we can preserve something around 90% of the total variance of the data."
   ]
  },
  {
   "cell_type": "code",
   "execution_count": 10,
   "metadata": {},
   "outputs": [],
   "source": [
    "pca = PCA(n_components=16)\n",
    "dataset = pca.fit_transform(X_rescaled)"
   ]
  },
  {
   "cell_type": "markdown",
   "metadata": {},
   "source": [
    "### TRYING SVM FITTING: SEEING ACCURACY BY SPLITTING THE DATASET IN A TEST AND A TRAIN SET"
   ]
  },
  {
   "cell_type": "code",
   "execution_count": 11,
   "metadata": {},
   "outputs": [],
   "source": [
    "X_train, X_test, y_train, y_test = train_test_split(dataset, y, random_state=0)"
   ]
  },
  {
   "cell_type": "code",
   "execution_count": 12,
   "metadata": {},
   "outputs": [],
   "source": [
    "clf = linear_model.LogisticRegression(C=1e5,\\\n",
    "max_iter=10000,n_jobs=-1).fit(X_train, y_train)\n",
    "y_pred = clf.predict(X_test)"
   ]
  },
  {
   "cell_type": "code",
   "execution_count": 13,
   "metadata": {},
   "outputs": [],
   "source": [
    "cm = confusion_matrix(y_test, y_pred)\n",
    "accuracy = (cm[0][0] + cm[1][1]) / (cm[0][0] + cm[0][1] + cm[1][0] + cm[1][1])"
   ]
  },
  {
   "cell_type": "code",
   "execution_count": 14,
   "metadata": {},
   "outputs": [
    {
     "data": {
      "text/plain": [
       "0.5874514158800667"
      ]
     },
     "execution_count": 14,
     "metadata": {},
     "output_type": "execute_result"
    }
   ],
   "source": [
    "accuracy"
   ]
  },
  {
   "cell_type": "markdown",
   "metadata": {},
   "source": [
    "### EXTRACTING MEAN WORD VECTOR ON TEST SETS"
   ]
  },
  {
   "cell_type": "code",
   "execution_count": 15,
   "metadata": {},
   "outputs": [],
   "source": [
    "RES_PATH = './Results/result_test.txt'\n",
    "test_set = open(RES_PATH, \"r\").read().splitlines()"
   ]
  },
  {
   "cell_type": "code",
   "execution_count": 16,
   "metadata": {},
   "outputs": [
    {
     "name": "stdout",
     "output_type": "stream",
     "text": [
      "> process test data to get X_test and perform ML\n",
      "> extracting mean of word vectors\n",
      "> X_test informations:\n",
      "X_test shape: (10000, 20)\n"
     ]
    }
   ],
   "source": [
    "test_df, X_test = process_test_ML(test_set, vocabulary, embeddings, DIM_EMB)"
   ]
  },
  {
   "cell_type": "code",
   "execution_count": 17,
   "metadata": {},
   "outputs": [
    {
     "data": {
      "text/html": [
       "<div>\n",
       "<style scoped>\n",
       "    .dataframe tbody tr th:only-of-type {\n",
       "        vertical-align: middle;\n",
       "    }\n",
       "\n",
       "    .dataframe tbody tr th {\n",
       "        vertical-align: top;\n",
       "    }\n",
       "\n",
       "    .dataframe thead th {\n",
       "        text-align: right;\n",
       "    }\n",
       "</style>\n",
       "<table border=\"1\" class=\"dataframe\">\n",
       "  <thead>\n",
       "    <tr style=\"text-align: right;\">\n",
       "      <th></th>\n",
       "      <th>Tweet_submission_id</th>\n",
       "      <th>Tweet</th>\n",
       "      <th>Token_idx</th>\n",
       "      <th>Words_Vectors</th>\n",
       "      <th>Mean_Word_Vector</th>\n",
       "    </tr>\n",
       "  </thead>\n",
       "  <tbody>\n",
       "    <tr>\n",
       "      <th>0</th>\n",
       "      <td>1</td>\n",
       "      <td>sea doo pro sea scooter sport portable sea doo...</td>\n",
       "      <td>[1079, 2077, 488, 1079, 4060, 436, 1951, 1079,...</td>\n",
       "      <td>[[0.7545771418230769, 0.5417753466067821, -0.3...</td>\n",
       "      <td>[0.17359848973525313, 0.6739966900020333, -0.4...</td>\n",
       "    </tr>\n",
       "    <tr>\n",
       "      <th>1</th>\n",
       "      <td>2</td>\n",
       "      <td>shuck well work week come cheer put battery ca...</td>\n",
       "      <td>[7242, 22, 27, 77, 16, 460, 156, 378, 6804]</td>\n",
       "      <td>[[-1.2264067940250245, 0.15497394762378422, 0....</td>\n",
       "      <td>[-0.4337431112273248, 0.2020129000933508, -0.2...</td>\n",
       "    </tr>\n",
       "    <tr>\n",
       "      <th>2</th>\n",
       "      <td>3</td>\n",
       "      <td>stay away bug that baby</td>\n",
       "      <td>[162, 171, 1375, 166, 76]</td>\n",
       "      <td>[[-0.3056082730359473, 0.3002315203895117, -0....</td>\n",
       "      <td>[-0.3436857359354798, 0.19822519439318748, -0....</td>\n",
       "    </tr>\n",
       "    <tr>\n",
       "      <th>3</th>\n",
       "      <td>4</td>\n",
       "      <td>madam lol perfectly fine contagious anymore mao</td>\n",
       "      <td>[2300, 7, 2873, 301, 6481, 240, 131]</td>\n",
       "      <td>[[0.9504541835268531, 0.21418896359570821, -0....</td>\n",
       "      <td>[0.5329097936052202, -0.18495738575262563, 0.1...</td>\n",
       "    </tr>\n",
       "    <tr>\n",
       "      <th>4</th>\n",
       "      <td>5</td>\n",
       "      <td>whenever fall asleep watch always wake headache</td>\n",
       "      <td>[1113, 330, 603, 42, 63, 223, 817]</td>\n",
       "      <td>[[-0.9415122235016096, -0.9807237355649092, -1...</td>\n",
       "      <td>[-0.04126264263608654, 0.15105353028164056, -0...</td>\n",
       "    </tr>\n",
       "  </tbody>\n",
       "</table>\n",
       "</div>"
      ],
      "text/plain": [
       "   Tweet_submission_id                                              Tweet  \\\n",
       "0                    1  sea doo pro sea scooter sport portable sea doo...   \n",
       "1                    2  shuck well work week come cheer put battery ca...   \n",
       "2                    3                            stay away bug that baby   \n",
       "3                    4    madam lol perfectly fine contagious anymore mao   \n",
       "4                    5    whenever fall asleep watch always wake headache   \n",
       "\n",
       "                                           Token_idx  \\\n",
       "0  [1079, 2077, 488, 1079, 4060, 436, 1951, 1079,...   \n",
       "1        [7242, 22, 27, 77, 16, 460, 156, 378, 6804]   \n",
       "2                          [162, 171, 1375, 166, 76]   \n",
       "3               [2300, 7, 2873, 301, 6481, 240, 131]   \n",
       "4                 [1113, 330, 603, 42, 63, 223, 817]   \n",
       "\n",
       "                                       Words_Vectors  \\\n",
       "0  [[0.7545771418230769, 0.5417753466067821, -0.3...   \n",
       "1  [[-1.2264067940250245, 0.15497394762378422, 0....   \n",
       "2  [[-0.3056082730359473, 0.3002315203895117, -0....   \n",
       "3  [[0.9504541835268531, 0.21418896359570821, -0....   \n",
       "4  [[-0.9415122235016096, -0.9807237355649092, -1...   \n",
       "\n",
       "                                    Mean_Word_Vector  \n",
       "0  [0.17359848973525313, 0.6739966900020333, -0.4...  \n",
       "1  [-0.4337431112273248, 0.2020129000933508, -0.2...  \n",
       "2  [-0.3436857359354798, 0.19822519439318748, -0....  \n",
       "3  [0.5329097936052202, -0.18495738575262563, 0.1...  \n",
       "4  [-0.04126264263608654, 0.15105353028164056, -0...  "
      ]
     },
     "execution_count": 17,
     "metadata": {},
     "output_type": "execute_result"
    }
   ],
   "source": [
    "# check full_df\n",
    "test_df.head()"
   ]
  },
  {
   "cell_type": "markdown",
   "metadata": {},
   "source": [
    "### MINMAXSCALER AND PCA ON TEST SETS"
   ]
  },
  {
   "cell_type": "code",
   "execution_count": 18,
   "metadata": {},
   "outputs": [],
   "source": [
    "test_rescaled = scaler.fit_transform(X_test)"
   ]
  },
  {
   "cell_type": "code",
   "execution_count": 19,
   "metadata": {},
   "outputs": [],
   "source": [
    "pca = PCA(n_components=16)\n",
    "test = pca.fit_transform(test_rescaled)"
   ]
  },
  {
   "cell_type": "code",
   "execution_count": 20,
   "metadata": {},
   "outputs": [],
   "source": [
    "# TRAIN LR ON WHOLE TRAINING SET\n",
    "clf = linear_model.LogisticRegression(C=1e5,\\\n",
    "max_iter =10000,n_jobs=-1).fit(dataset, y)\n",
    "y_pred = clf.predict(test)"
   ]
  },
  {
   "cell_type": "code",
   "execution_count": 21,
   "metadata": {},
   "outputs": [
    {
     "data": {
      "text/plain": [
       "10000"
      ]
     },
     "execution_count": 21,
     "metadata": {},
     "output_type": "execute_result"
    }
   ],
   "source": [
    "len(y_pred)"
   ]
  },
  {
   "cell_type": "markdown",
   "metadata": {},
   "source": [
    "### CREATE A SUBMISSION"
   ]
  },
  {
   "cell_type": "code",
   "execution_count": 22,
   "metadata": {},
   "outputs": [],
   "source": [
    "test_id = test_df['Tweet_submission_id'].to_numpy()"
   ]
  },
  {
   "cell_type": "code",
   "execution_count": 23,
   "metadata": {},
   "outputs": [
    {
     "data": {
      "text/plain": [
       "10000"
      ]
     },
     "execution_count": 23,
     "metadata": {},
     "output_type": "execute_result"
    }
   ],
   "source": [
    "len(test_id)"
   ]
  },
  {
   "cell_type": "code",
   "execution_count": 24,
   "metadata": {},
   "outputs": [],
   "source": [
    "create_csv_submission(test_id,y_pred,\"./Submissions/LR_SUB.csv\")"
   ]
  }
 ],
 "metadata": {
  "kernelspec": {
   "display_name": "Python 3",
   "language": "python",
   "name": "python3"
  },
  "language_info": {
   "codemirror_mode": {
    "name": "ipython",
    "version": 3
   },
   "file_extension": ".py",
   "mimetype": "text/x-python",
   "name": "python",
   "nbconvert_exporter": "python",
   "pygments_lexer": "ipython3",
   "version": "3.7.1"
  }
 },
 "nbformat": 4,
 "nbformat_minor": 2
}
