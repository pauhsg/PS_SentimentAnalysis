{
 "cells": [
  {
   "cell_type": "code",
   "execution_count": 1,
   "metadata": {},
   "outputs": [],
   "source": [
    "from twts_preprocess import *"
   ]
  },
  {
   "cell_type": "code",
   "execution_count": 2,
   "metadata": {},
   "outputs": [],
   "source": [
    "DATA_TRAIN_POS_PATH = './Datasets/twitter-datasets/train_pos.txt'  \n",
    "DATA_TRAIN_NEG_PATH = './Datasets/twitter-datasets/train_neg.txt'\n",
    "\n",
    "DATA_TEST_PATH = './Datasets/twitter-datasets/test_data.txt'"
   ]
  },
  {
   "cell_type": "code",
   "execution_count": 3,
   "metadata": {},
   "outputs": [],
   "source": [
    "# load the data files = list with each line being a tweet\n",
    "train_pos = open(DATA_TRAIN_POS_PATH, \"r\").read().splitlines()\n",
    "train_neg = open(DATA_TRAIN_NEG_PATH, \"r\").read().splitlines()\n",
    "\n",
    "test = open(DATA_TEST_PATH, \"r\").read().splitlines()"
   ]
  },
  {
   "cell_type": "code",
   "execution_count": 4,
   "metadata": {},
   "outputs": [
    {
     "data": {
      "text/plain": [
       "'\\nmini_pos = train_pos[1:25]\\n'"
      ]
     },
     "execution_count": 4,
     "metadata": {},
     "output_type": "execute_result"
    }
   ],
   "source": [
    "# test pipeline with a little subset of pos_data\n",
    "'''\n",
    "mini_pos = train_pos[1:25]\n",
    "'''"
   ]
  },
  {
   "cell_type": "code",
   "execution_count": 5,
   "metadata": {},
   "outputs": [
    {
     "data": {
      "text/plain": [
       "\"\\npp_mini = preprocessing(mini_pos)\\nsave_as_list(pp_mini, './Results/pp_mini_list.txt')\\nsave_as_otpl(pp_mini, './Results/pp_mini_otpl.txt')\\n\\n# remove duplicates and save (nd = no duplicates)\\npp_mini_ = remove_twt_duplicates(pp_mini)\\nsave_as_list(pp_mini_, './Results/pp_mini_list_nd.txt')\\nsave_as_otpl(pp_mini_, './Results/pp_mini_otpl_nd.txt')\\n\""
      ]
     },
     "execution_count": 5,
     "metadata": {},
     "output_type": "execute_result"
    }
   ],
   "source": [
    "'''\n",
    "pp_mini = preprocessing(mini_pos)\n",
    "save_as_list(pp_mini, './Results/pp_mini_list.txt')\n",
    "save_as_otpl(pp_mini, './Results/pp_mini_otpl.txt')\n",
    "\n",
    "# remove duplicates and save (nd = no duplicates)\n",
    "pp_mini_ = remove_twt_duplicates(pp_mini)\n",
    "save_as_list(pp_mini_, './Results/pp_mini_list_nd.txt')\n",
    "save_as_otpl(pp_mini_, './Results/pp_mini_otpl_nd.txt')\n",
    "'''"
   ]
  },
  {
   "cell_type": "code",
   "execution_count": 6,
   "metadata": {},
   "outputs": [
    {
     "data": {
      "text/plain": [
       "\"\\npp_pos = preprocessing(train_pos)\\nsave_as_list(pp_pos, './Results/pp_pos_list.txt')\\nsave_as_otpl(pp_pos, './Results/pp_pos_otpl.txt')\\n\\n# remove duplicates and save\\npp_pos_ = remove_twt_duplicates(pp_pos)\\nsave_as_list(pp_pos_, './Results/pp_pos_list_nd.txt')\\nsave_as_otpl(pp_pos_, './Results/pp_pos_otpl_nd.txt')\\n\""
      ]
     },
     "execution_count": 6,
     "metadata": {},
     "output_type": "execute_result"
    }
   ],
   "source": [
    "# run preprocessing on entire train_pos.txt \n",
    "'''\n",
    "pp_pos = preprocessing(train_pos)\n",
    "save_as_list(pp_pos, './Results/pp_pos_list.txt')\n",
    "save_as_otpl(pp_pos, './Results/pp_pos_otpl.txt')\n",
    "\n",
    "# remove duplicates and save\n",
    "pp_pos_ = remove_twt_duplicates(pp_pos)\n",
    "save_as_list(pp_pos_, './Results/pp_pos_list_nd.txt')\n",
    "save_as_otpl(pp_pos_, './Results/pp_pos_otpl_nd.txt')\n",
    "'''"
   ]
  },
  {
   "cell_type": "code",
   "execution_count": 7,
   "metadata": {},
   "outputs": [
    {
     "data": {
      "text/plain": [
       "\"\\npp_neg = preprocessing(train_neg)\\nsave_as_list(pp_neg, './Results/pp_neg_list.txt')\\nsave_as_otpl(pp_neg, './Results/pp_neg_otpl.txt')\\n\\n# remove duplicates and save\\npp_neg_ = remove_twt_duplicates(pp_neg)\\nsave_as_list(pp_neg_, './Results/pp_neg_list_nd.txt')\\nsave_as_otpl(pp_neg_, './Results/pp_neg_otpl_nd.txt')\\n\""
      ]
     },
     "execution_count": 7,
     "metadata": {},
     "output_type": "execute_result"
    }
   ],
   "source": [
    "# run preprocessing on entire train_neg.txt\n",
    "'''\n",
    "pp_neg = preprocessing(train_neg)\n",
    "save_as_list(pp_neg, './Results/pp_neg_list.txt')\n",
    "save_as_otpl(pp_neg, './Results/pp_neg_otpl.txt')\n",
    "\n",
    "# remove duplicates and save\n",
    "pp_neg_ = remove_twt_duplicates(pp_neg)\n",
    "save_as_list(pp_neg_, './Results/pp_neg_list_nd.txt')\n",
    "save_as_otpl(pp_neg_, './Results/pp_neg_otpl_nd.txt')\n",
    "'''"
   ]
  },
  {
   "cell_type": "code",
   "execution_count": 8,
   "metadata": {},
   "outputs": [
    {
     "data": {
      "text/plain": [
       "\"\\ntest = remove_ids(test)\\npp_test = preprocessing(test)\\nsave_as_list(pp_test, './Results/pp_test_list.txt')\\nsave_as_otpl(pp_test, './Results/pp_test_otpl.txt')\\n\\n# remove duplicates and save\\npp_test_ = remove_twt_duplicates(pp_test)\\nsave_as_list(pp_test_, './Results/pp_test_list_nd.txt')\\nsave_as_otpl(pp_test_, './Results/pp_test_otpl_nd.txt')\\n\""
      ]
     },
     "execution_count": 8,
     "metadata": {},
     "output_type": "execute_result"
    }
   ],
   "source": [
    "# run preprocessing on entire test_data.txt\n",
    "'''\n",
    "test = remove_ids(test)\n",
    "pp_test = preprocessing(test)\n",
    "save_as_list(pp_test, './Results/pp_test_list.txt')\n",
    "save_as_otpl(pp_test, './Results/pp_test_otpl.txt')\n",
    "\n",
    "# remove duplicates and save\n",
    "pp_test_ = remove_twt_duplicates(pp_test)\n",
    "save_as_list(pp_test_, './Results/pp_test_list_nd.txt')\n",
    "save_as_otpl(pp_test_, './Results/pp_test_otpl_nd.txt')\n",
    "'''"
   ]
  },
  {
   "cell_type": "code",
   "execution_count": 9,
   "metadata": {},
   "outputs": [],
   "source": [
    "pos_otpl = open('./Results/pp_pos_otpl_nd.txt', \"r\").read().splitlines()\n",
    "neg_otpl = open('./Results/pp_neg_otpl_nd.txt', \"r\").read().splitlines()"
   ]
  },
  {
   "cell_type": "code",
   "execution_count": 10,
   "metadata": {},
   "outputs": [
    {
     "name": "stdout",
     "output_type": "stream",
     "text": [
      "> prepare corpus for GloVe with pp_pos and pp_neg\n",
      "corpus length: 7294211\n",
      "> saving corpus\n"
     ]
    }
   ],
   "source": [
    "corpus_for_glove(pos_otpl, neg_otpl, './Results/corpus_glove.txt')"
   ]
  },
  {
   "cell_type": "code",
   "execution_count": null,
   "metadata": {},
   "outputs": [],
   "source": []
  }
 ],
 "metadata": {
  "kernelspec": {
   "display_name": "Python 3",
   "language": "python",
   "name": "python3"
  },
  "language_info": {
   "codemirror_mode": {
    "name": "ipython",
    "version": 3
   },
   "file_extension": ".py",
   "mimetype": "text/x-python",
   "name": "python",
   "nbconvert_exporter": "python",
   "pygments_lexer": "ipython3",
   "version": "3.7.1"
  }
 },
 "nbformat": 4,
 "nbformat_minor": 2
}
