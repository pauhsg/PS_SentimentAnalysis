{
 "cells": [
  {
   "cell_type": "code",
   "execution_count": 1,
   "metadata": {},
   "outputs": [],
   "source": [
    "from sklearn.neural_network import MLPClassifier\n",
    "\n",
    "import warnings \n",
    "warnings.simplefilter('ignore')\n",
    "\n",
    "from get_GloVe_emb_ML import *\n",
    "from proj2_helpers import *\n",
    "from ML_sklearn import * "
   ]
  },
  {
   "cell_type": "code",
   "execution_count": 2,
   "metadata": {},
   "outputs": [],
   "source": [
    "PP_POS_PATH = './Results/pp_pos_otpl_nd.txt' \n",
    "PP_NEG_PATH = './Results/pp_neg_otpl_nd.txt' \n",
    "PP_TEST_PATH = './Results/pp_test_otpl.txt'\n",
    "VECTORS_PATH = './GloVe-1.2/vectors.txt'"
   ]
  },
  {
   "cell_type": "code",
   "execution_count": 3,
   "metadata": {},
   "outputs": [],
   "source": [
    "DIM_EMB = 50"
   ]
  },
  {
   "cell_type": "code",
   "execution_count": 4,
   "metadata": {},
   "outputs": [],
   "source": [
    "testsize = 0.2"
   ]
  },
  {
   "cell_type": "code",
   "execution_count": 5,
   "metadata": {},
   "outputs": [],
   "source": [
    "pos = open(PP_POS_PATH, \"r\").read().splitlines()\n",
    "neg = open(PP_NEG_PATH, \"r\").read().splitlines()\n",
    "test = open(PP_TEST_PATH, \"r\").read().splitlines()"
   ]
  },
  {
   "cell_type": "code",
   "execution_count": 6,
   "metadata": {},
   "outputs": [],
   "source": [
    "vectors = get_vectors(VECTORS_PATH)"
   ]
  },
  {
   "cell_type": "code",
   "execution_count": 7,
   "metadata": {},
   "outputs": [
    {
     "name": "stdout",
     "output_type": "stream",
     "text": [
      "> process pos and neg datas to get X and y to perform ML\n",
      "> computing mean of word vectors\n",
      "> computing mean of word vectors\n",
      "> X and y informations:\n",
      "X shape: (173209, 50)\n",
      "y shape: (173209,)\n"
     ]
    },
    {
     "data": {
      "text/html": [
       "<div>\n",
       "<style scoped>\n",
       "    .dataframe tbody tr th:only-of-type {\n",
       "        vertical-align: middle;\n",
       "    }\n",
       "\n",
       "    .dataframe tbody tr th {\n",
       "        vertical-align: top;\n",
       "    }\n",
       "\n",
       "    .dataframe thead th {\n",
       "        text-align: right;\n",
       "    }\n",
       "</style>\n",
       "<table border=\"1\" class=\"dataframe\">\n",
       "  <thead>\n",
       "    <tr style=\"text-align: right;\">\n",
       "      <th></th>\n",
       "      <th>sentiment</th>\n",
       "      <th>twt_vec</th>\n",
       "    </tr>\n",
       "  </thead>\n",
       "  <tbody>\n",
       "    <tr>\n",
       "      <th>42879</th>\n",
       "      <td>1</td>\n",
       "      <td>[-0.10601999999999999, 0.58629325, -0.30475874...</td>\n",
       "    </tr>\n",
       "    <tr>\n",
       "      <th>155575</th>\n",
       "      <td>-1</td>\n",
       "      <td>[-0.16942, 0.4084016363636364, -0.272888181818...</td>\n",
       "    </tr>\n",
       "    <tr>\n",
       "      <th>106476</th>\n",
       "      <td>-1</td>\n",
       "      <td>[-0.257222, 0.18849533333333332, -0.312197, -0...</td>\n",
       "    </tr>\n",
       "    <tr>\n",
       "      <th>50902</th>\n",
       "      <td>1</td>\n",
       "      <td>[-0.049435666666666656, 0.44991933333333334, -...</td>\n",
       "    </tr>\n",
       "    <tr>\n",
       "      <th>142780</th>\n",
       "      <td>-1</td>\n",
       "      <td>[-0.287151, 0.11841266666666667, 0.247673, 0.3...</td>\n",
       "    </tr>\n",
       "  </tbody>\n",
       "</table>\n",
       "</div>"
      ],
      "text/plain": [
       "        sentiment                                            twt_vec\n",
       "42879           1  [-0.10601999999999999, 0.58629325, -0.30475874...\n",
       "155575         -1  [-0.16942, 0.4084016363636364, -0.272888181818...\n",
       "106476         -1  [-0.257222, 0.18849533333333332, -0.312197, -0...\n",
       "50902           1  [-0.049435666666666656, 0.44991933333333334, -...\n",
       "142780         -1  [-0.287151, 0.11841266666666667, 0.247673, 0.3..."
      ]
     },
     "execution_count": 7,
     "metadata": {},
     "output_type": "execute_result"
    }
   ],
   "source": [
    "full_df, X, y = get_train_emb(pos, neg, vectors, DIM_EMB)\n",
    "full_df.head()"
   ]
  },
  {
   "cell_type": "code",
   "execution_count": 8,
   "metadata": {},
   "outputs": [
    {
     "name": "stdout",
     "output_type": "stream",
     "text": [
      "> splitting datas into train and test sets\n",
      "> standardizing\n",
      "> performing PCA\n",
      "Train set: X shape:  (138567, 40) y shape: (138567,)\n",
      "Test set: X shape:  (34642, 40) y shape: (34642,)\n"
     ]
    }
   ],
   "source": [
    "X_train, X_test, y_train, y_test, scaler, pca = split_standardize_pca(X, y, testsize)"
   ]
  },
  {
   "cell_type": "code",
   "execution_count": 9,
   "metadata": {},
   "outputs": [
    {
     "name": "stdout",
     "output_type": "stream",
     "text": [
      "0.7529877027885226\n"
     ]
    }
   ],
   "source": [
    "clf = MLPClassifier(solver='adam', alpha=1e-4, hidden_layer_sizes=(2, X_train.shape[1]), random_state=4, verbose=False, learning_rate='constant')\n",
    "clf.fit(X_train, y_train)\n",
    "y_pred = clf.predict(X_test)\n",
    "compute_accuracy(y_test, y_pred)"
   ]
  },
  {
   "cell_type": "code",
   "execution_count": 10,
   "metadata": {},
   "outputs": [
    {
     "name": "stdout",
     "output_type": "stream",
     "text": [
      "> process test data to get X_test and perform ML\n",
      "> computing mean of word vectors\n",
      "Test shape (10000, 50)\n"
     ]
    }
   ],
   "source": [
    "df_test, testx = get_test_emb(test, vectors, DIM_EMB)"
   ]
  },
  {
   "cell_type": "code",
   "execution_count": 11,
   "metadata": {},
   "outputs": [],
   "source": [
    "testx = std_pca_test(testx, scaler, pca)"
   ]
  },
  {
   "cell_type": "code",
   "execution_count": 12,
   "metadata": {},
   "outputs": [],
   "source": [
    "y_pred_test = clf.predict(testx)"
   ]
  },
  {
   "cell_type": "code",
   "execution_count": 13,
   "metadata": {},
   "outputs": [
    {
     "name": "stdout",
     "output_type": "stream",
     "text": [
      "verify length of test:  10000\n"
     ]
    }
   ],
   "source": [
    "create_submission(df_test, y_pred_test, './Submissions/NN_glove.csv')"
   ]
  }
 ],
 "metadata": {
  "kernelspec": {
   "display_name": "Python 3",
   "language": "python",
   "name": "python3"
  },
  "language_info": {
   "codemirror_mode": {
    "name": "ipython",
    "version": 3
   },
   "file_extension": ".py",
   "mimetype": "text/x-python",
   "name": "python",
   "nbconvert_exporter": "python",
   "pygments_lexer": "ipython3",
   "version": "3.7.1"
  }
 },
 "nbformat": 4,
 "nbformat_minor": 2
}
